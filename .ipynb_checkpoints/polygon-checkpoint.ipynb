{
 "cells": [
  {
   "cell_type": "code",
   "execution_count": null,
   "metadata": {},
   "outputs": [
    {
     "ename": "",
     "evalue": "",
     "output_type": "error",
     "traceback": [
      "\u001b[1;31mRunning cells with 'bv-llm2-DxBnleO9-py3.12 (Python 3.12.3)' requires the ipykernel package.\n",
      "\u001b[1;31mRun the following command to install 'ipykernel' into the Python environment. \n",
      "\u001b[1;31mCommand: '/home/bilal/.cache/pypoetry/virtualenvs/bv-llm2-DxBnleO9-py3.12/bin/python -m pip install ipykernel -U --force-reinstall'"
     ]
    }
   ],
   "source": [
    "from polygon import RESTClient\n",
    "import os\n",
    "\n",
    "POLYGON_API_KEY = os.getenv(\"POLYGON_API_KEY\")\n",
    "client = RESTClient(\"POLYGON_API_KEY\")\n",
    "\n",
    "aggs = []\n",
    "for a in client.list_aggs(\n",
    "    \"AAPL\",\n",
    "    1,\n",
    "    \"minute\",\n",
    "    \"2022-01-01\",\n",
    "    \"2023-02-03\",\n",
    "    limit=50000,\n",
    "):\n",
    "    aggs.append(a)\n",
    "\n",
    "print(aggs)\n"
   ]
  },
  {
   "cell_type": "code",
   "execution_count": null,
   "metadata": {},
   "outputs": [],
   "source": []
  }
 ],
 "metadata": {
  "kernelspec": {
   "display_name": "bv-llm2-DxBnleO9-py3.12",
   "language": "python",
   "name": "python3"
  },
  "language_info": {
   "name": "python",
   "version": "3.12.3"
  }
 },
 "nbformat": 4,
 "nbformat_minor": 2
}
