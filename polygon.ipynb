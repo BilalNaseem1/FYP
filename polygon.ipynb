{
 "cells": [
  {
   "cell_type": "code",
   "execution_count": 13,
   "metadata": {},
   "outputs": [
    {
     "data": {
      "text/plain": [
       "True"
      ]
     },
     "execution_count": 13,
     "metadata": {},
     "output_type": "execute_result"
    }
   ],
   "source": [
    "# from polygon import RESTClient\n",
    "import os\n",
    "from dotenv import load_dotenv\n",
    "load_dotenv()\n",
    "\n",
    "# POLYGON_API_KEY = os.getenv('POLYGON_API_KEY')\n",
    "# client = RESTClient(\"POLYGON_API_KEY\")\n",
    "\n",
    "# aggs = []\n",
    "# for a in client.list_aggs(\n",
    "#     \"AAPL\",\n",
    "#     1,\n",
    "#     \"minute\",\n",
    "#     \"2022-01-01\",\n",
    "#     \"2023-02-03\",\n",
    "#     limit=50000,\n",
    "# ):\n",
    "#     aggs.append(a)\n",
    "\n",
    "# print(aggs)\n"
   ]
  },
  {
   "cell_type": "code",
   "execution_count": 3,
   "metadata": {},
   "outputs": [],
   "source": [
    "import os"
   ]
  }
 ],
 "metadata": {
  "kernelspec": {
   "display_name": "Python 3 (ipykernel)",
   "language": "python",
   "name": "python3"
  },
  "language_info": {
   "codemirror_mode": {
    "name": "ipython",
    "version": 3
   },
   "file_extension": ".py",
   "mimetype": "text/x-python",
   "name": "python",
   "nbconvert_exporter": "python",
   "pygments_lexer": "ipython3",
   "version": "3.12.3"
  }
 },
 "nbformat": 4,
 "nbformat_minor": 4
}
